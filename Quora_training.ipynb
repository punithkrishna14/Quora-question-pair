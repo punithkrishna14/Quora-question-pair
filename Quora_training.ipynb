{
 "cells": [
  {
   "cell_type": "markdown",
   "metadata": {},
   "source": [
    "# Training Model for Quora Question Pairs's Training Dataset:"
   ]
  },
  {
   "cell_type": "code",
   "execution_count": 1,
   "metadata": {
    "collapsed": true
   },
   "outputs": [],
   "source": [
    "# avoid decoding problems\n",
    "import sys\n",
    "import os \n",
    "import pandas as pd\n",
    "import numpy as np\n",
    "from tqdm import tqdm\n",
    "df = pd.read_csv(\"train.csv\")\n",
    " \n",
    "# encode questions to unicode\n",
    "df['question1'] = df['question1'].apply(lambda x: unicode(str(x),\"utf-8\"))\n",
    "df['question2'] = df['question2'].apply(lambda x: unicode(str(x),\"utf-8\"))"
   ]
  },
  {
   "cell_type": "code",
   "execution_count": 2,
   "metadata": {},
   "outputs": [
    {
     "data": {
      "text/html": [
       "<div>\n",
       "<style>\n",
       "    .dataframe thead tr:only-child th {\n",
       "        text-align: right;\n",
       "    }\n",
       "\n",
       "    .dataframe thead th {\n",
       "        text-align: left;\n",
       "    }\n",
       "\n",
       "    .dataframe tbody tr th {\n",
       "        vertical-align: top;\n",
       "    }\n",
       "</style>\n",
       "<table border=\"1\" class=\"dataframe\">\n",
       "  <thead>\n",
       "    <tr style=\"text-align: right;\">\n",
       "      <th></th>\n",
       "      <th>id</th>\n",
       "      <th>qid1</th>\n",
       "      <th>qid2</th>\n",
       "      <th>question1</th>\n",
       "      <th>question2</th>\n",
       "      <th>is_duplicate</th>\n",
       "    </tr>\n",
       "  </thead>\n",
       "  <tbody>\n",
       "    <tr>\n",
       "      <th>0</th>\n",
       "      <td>0</td>\n",
       "      <td>1</td>\n",
       "      <td>2</td>\n",
       "      <td>What is the step by step guide to invest in sh...</td>\n",
       "      <td>What is the step by step guide to invest in sh...</td>\n",
       "      <td>0</td>\n",
       "    </tr>\n",
       "    <tr>\n",
       "      <th>1</th>\n",
       "      <td>1</td>\n",
       "      <td>3</td>\n",
       "      <td>4</td>\n",
       "      <td>What is the story of Kohinoor (Koh-i-Noor) Dia...</td>\n",
       "      <td>What would happen if the Indian government sto...</td>\n",
       "      <td>0</td>\n",
       "    </tr>\n",
       "    <tr>\n",
       "      <th>2</th>\n",
       "      <td>2</td>\n",
       "      <td>5</td>\n",
       "      <td>6</td>\n",
       "      <td>How can I increase the speed of my internet co...</td>\n",
       "      <td>How can Internet speed be increased by hacking...</td>\n",
       "      <td>0</td>\n",
       "    </tr>\n",
       "    <tr>\n",
       "      <th>3</th>\n",
       "      <td>3</td>\n",
       "      <td>7</td>\n",
       "      <td>8</td>\n",
       "      <td>Why am I mentally very lonely? How can I solve...</td>\n",
       "      <td>Find the remainder when [math]23^{24}[/math] i...</td>\n",
       "      <td>0</td>\n",
       "    </tr>\n",
       "    <tr>\n",
       "      <th>4</th>\n",
       "      <td>4</td>\n",
       "      <td>9</td>\n",
       "      <td>10</td>\n",
       "      <td>Which one dissolve in water quikly sugar, salt...</td>\n",
       "      <td>Which fish would survive in salt water?</td>\n",
       "      <td>0</td>\n",
       "    </tr>\n",
       "  </tbody>\n",
       "</table>\n",
       "</div>"
      ],
      "text/plain": [
       "   id  qid1  qid2                                          question1  \\\n",
       "0   0     1     2  What is the step by step guide to invest in sh...   \n",
       "1   1     3     4  What is the story of Kohinoor (Koh-i-Noor) Dia...   \n",
       "2   2     5     6  How can I increase the speed of my internet co...   \n",
       "3   3     7     8  Why am I mentally very lonely? How can I solve...   \n",
       "4   4     9    10  Which one dissolve in water quikly sugar, salt...   \n",
       "\n",
       "                                           question2  is_duplicate  \n",
       "0  What is the step by step guide to invest in sh...             0  \n",
       "1  What would happen if the Indian government sto...             0  \n",
       "2  How can Internet speed be increased by hacking...             0  \n",
       "3  Find the remainder when [math]23^{24}[/math] i...             0  \n",
       "4            Which fish would survive in salt water?             0  "
      ]
     },
     "execution_count": 2,
     "metadata": {},
     "output_type": "execute_result"
    }
   ],
   "source": [
    "df.head()"
   ]
  },
  {
   "cell_type": "markdown",
   "metadata": {
    "collapsed": true
   },
   "source": [
    "- It is a better choice to go further with TF-IDF scoring. \n",
    "- For TF-IDF, I used scikit-learn (heaven of ML).  \n",
    "- It provides TfIdfVectorizer which does everything you need.\n",
    "- here we use a pre-trained GLOVE model which comes free with \"Spacy\". \n",
    "- It is trained on Wikipedia and therefore, it is stronger in terms of word semantics. "
   ]
  },
  {
   "cell_type": "code",
   "execution_count": 2,
   "metadata": {
    "collapsed": true
   },
   "outputs": [],
   "source": [
    "from sklearn.feature_extraction.text import TfidfVectorizer\n",
    "from sklearn.feature_extraction.text import CountVectorizer\n",
    "# merge texts\n",
    "questions = list(df['question1']) + list(df['question2'])\n",
    "\n",
    "tfidf = TfidfVectorizer(lowercase=False, )\n",
    "tfidf.fit_transform(questions)\n",
    "\n",
    "# dict key:word and value:tf-idf score\n",
    "word2tfidf = dict(zip(tfidf.get_feature_names(), tfidf.idf_))"
   ]
  },
  {
   "cell_type": "markdown",
   "metadata": {},
   "source": [
    "- After we find TF-IDF scores, we convert each question to a weighted average of word2vec vectors by these scores. - The below code does this for \"question1\" and \"question2\" columns.\n",
    "- This is how we use Spacy for this purpose."
   ]
  },
  {
   "cell_type": "code",
   "execution_count": 3,
   "metadata": {},
   "outputs": [
    {
     "name": "stderr",
     "output_type": "stream",
     "text": [
      "100%|██████████| 404290/404290 [08:32<00:00, 788.17it/s]\n"
     ]
    }
   ],
   "source": [
    "# exctract word2vec vectors\n",
    "import spacy\n",
    "\n",
    "nlp = spacy.load('en')\n",
    "\n",
    "vecs1 = []\n",
    "for qu1 in tqdm(list(df['question1'])):\n",
    "    doc1 = nlp(qu1) \n",
    "    mean_vec1 = np.zeros([len(doc1), 300])\n",
    "    for word1 in doc1:\n",
    "        # word2vec\n",
    "        vec1 = word1.vector\n",
    "        # fetch df score\n",
    "        try:\n",
    "            idf = word2tfidf[str(word1)]\n",
    "        except:\n",
    "            #print word\n",
    "            idf = 0\n",
    "        # compute final vec\n",
    "        mean_vec1 += vec1 * idf\n",
    "    mean_vec1 = mean_vec1.mean(axis=0)\n",
    "    vecs1.append(mean_vec1)\n",
    "df['q1_feats_m'] = list(vecs1)\n"
   ]
  },
  {
   "cell_type": "code",
   "execution_count": 4,
   "metadata": {},
   "outputs": [
    {
     "name": "stderr",
     "output_type": "stream",
     "text": [
      "100%|██████████| 404290/404290 [08:34<00:00, 785.93it/s]\n"
     ]
    }
   ],
   "source": [
    "vecs2 = []\n",
    "for qu2 in tqdm(list(df['question2'])):\n",
    "    doc2 = nlp(qu2) \n",
    "    mean_vec2 = np.zeros([len(doc2), 300])\n",
    "    for word2 in doc2:\n",
    "        # word2vec\n",
    "        vec2 = word2.vector\n",
    "        # fetch df score\n",
    "        try:\n",
    "            idf = word2tfidf[str(word2)]\n",
    "        except:\n",
    "            #print word\n",
    "            idf = 0\n",
    "        # compute final vec\n",
    "        mean_vec2 += vec2 * idf\n",
    "    mean_vec2 = mean_vec2.mean(axis=0)\n",
    "    vecs2.append(mean_vec2)\n",
    "df['q2_feats_m'] = list(vecs2)"
   ]
  },
  {
   "cell_type": "markdown",
   "metadata": {},
   "source": [
    "- Reading the Features (Explored in EDA) like : preprocessing features and NLP features"
   ]
  },
  {
   "cell_type": "code",
   "execution_count": 7,
   "metadata": {
    "collapsed": true
   },
   "outputs": [],
   "source": [
    "import sys\n",
    "reload(sys)\n",
    "sys.setdefaultencoding('utf-8')"
   ]
  },
  {
   "cell_type": "code",
   "execution_count": 7,
   "metadata": {
    "collapsed": true
   },
   "outputs": [],
   "source": [
    "\n",
    "from sklearn.metrics.pairwise import cosine_similarity\n",
    "q1_m=df['q1_feats_m'].values\n",
    "q2_m=df['q2_feats_m'].values\n",
    "\n",
    "\n",
    "#df['cosine']=np.array([cosine_similarity(q1_m[i],q2_m[i]) for i in range(0,len(q1_m))])"
   ]
  },
  {
   "cell_type": "code",
   "execution_count": 8,
   "metadata": {
    "collapsed": true
   },
   "outputs": [],
   "source": [
    "from sklearn.metrics.pairwise import pairwise_distances\n",
    "#df['eucld_dis'] = pairwise_distances(q1_m,q2_m , metric='euclidean', n_jobs=1)\n",
    "#df['eucld_dis'] = df.apply(lambda row: pairwise_distances(row[\"q1_feats_m\"].values, row[\"q2_feats_m\"].values, metric='euclidean', n_jobs=1), axis=1)"
   ]
  },
  {
   "cell_type": "code",
   "execution_count": null,
   "metadata": {
    "collapsed": true
   },
   "outputs": [],
   "source": [
    "df['cosine_dis'] = df.apply(lambda row: pairwise_distances(row[\"q1_feats_m\"], row[\"q2_feats_m\"], metric='cosine', n_jobs=1), axis=1)\n",
    "\n",
    "df['manhattan_dis'] = df.apply(lambda row: pairwise_distances(row[\"q1_feats_m\"], row[\"q2_feats_m\"], metric='manhattan', n_jobs=1), axis=1)"
   ]
  },
  {
   "cell_type": "code",
   "execution_count": 9,
   "metadata": {
    "collapsed": true
   },
   "outputs": [],
   "source": [
    "import scipy.spatial.distance\n",
    "\n",
    "df1 = pd.DataFrame()\n",
    "\n",
    "df1['braycurtis_dis'] = df.apply(lambda row: scipy.spatial.distance.braycurtis(row[\"q1_feats_m\"], row[\"q2_feats_m\"]), axis=1)\n",
    "\n",
    "df1['canberra_dis'] = df.apply(lambda row: scipy.spatial.distance.canberra(row[\"q1_feats_m\"], row[\"q2_feats_m\"]), axis=1)\n",
    "\n",
    "df1['chebyshev_dis'] = df.apply(lambda row: scipy.spatial.distance.chebyshev(row[\"q1_feats_m\"], row[\"q2_feats_m\"]), axis=1)\n",
    "\n",
    "df1['cityblock_dis'] = df.apply(lambda row: scipy.spatial.distance.cityblock(row[\"q1_feats_m\"], row[\"q2_feats_m\"]), axis=1)\n",
    "\n",
    "df1['correlation_dis'] = df.apply(lambda row: scipy.spatial.distance.correlation(row[\"q1_feats_m\"], row[\"q2_feats_m\"]), axis=1)\n",
    "\n",
    "df1['cosine_dis'] = df.apply(lambda row: scipy.spatial.distance.cosine(row[\"q1_feats_m\"], row[\"q2_feats_m\"]), axis=1)\n",
    "\n",
    "df1['euclidean_dis'] = df.apply(lambda row: scipy.spatial.distance.euclidean(row[\"q1_feats_m\"], row[\"q2_feats_m\"]), axis=1)\n",
    "\n",
    "#df['mahalanobis_dis'] = df.apply(lambda row: scipy.spatial.distance.mahalanobis(row[\"q1_feats_m\"], row[\"q2_feats_m\"]), axis=1)\n",
    "\n",
    "df1['minkowski_dis'] = df.apply(lambda row: scipy.spatial.distance.minkowski(row[\"q1_feats_m\"], row[\"q2_feats_m\"], 3), axis=1)\n",
    "\n",
    "#df['seuclidean_dis'] = df.apply(lambda row: scipy.spatial.distance.seuclidean(row[\"q1_feats_m\"], row[\"q2_feats_m\"]), axis=1)\n",
    "\n",
    "df1['sqeuclidean_dis'] = df.apply(lambda row: scipy.spatial.distance.sqeuclidean(row[\"q1_feats_m\"], row[\"q2_feats_m\"]), axis=1)\n",
    "\n",
    "#df['wminkowski_dis'] = df.apply(lambda row: scipy.spatial.distance.wminkowski(row[\"q1_feats_m\"], row[\"q2_feats_m\"]), axis=1)\n",
    "\n",
    "df1['hamming_dis'] = df.apply(lambda row: scipy.spatial.distance.hamming(row[\"q1_feats_m\"], row[\"q2_feats_m\"]), axis=1)\n"
   ]
  },
  {
   "cell_type": "code",
   "execution_count": 10,
   "metadata": {},
   "outputs": [
    {
     "data": {
      "text/html": [
       "<div>\n",
       "<style>\n",
       "    .dataframe thead tr:only-child th {\n",
       "        text-align: right;\n",
       "    }\n",
       "\n",
       "    .dataframe thead th {\n",
       "        text-align: left;\n",
       "    }\n",
       "\n",
       "    .dataframe tbody tr th {\n",
       "        vertical-align: top;\n",
       "    }\n",
       "</style>\n",
       "<table border=\"1\" class=\"dataframe\">\n",
       "  <thead>\n",
       "    <tr style=\"text-align: right;\">\n",
       "      <th></th>\n",
       "      <th>braycurtis_dis</th>\n",
       "      <th>canberra_dis</th>\n",
       "      <th>chebyshev_dis</th>\n",
       "      <th>cityblock_dis</th>\n",
       "      <th>correlation_dis</th>\n",
       "      <th>cosine_dis</th>\n",
       "      <th>euclidean_dis</th>\n",
       "      <th>minkowski_dis</th>\n",
       "      <th>sqeuclidean_dis</th>\n",
       "      <th>hamming_dis</th>\n",
       "    </tr>\n",
       "  </thead>\n",
       "  <tbody>\n",
       "    <tr>\n",
       "      <th>0</th>\n",
       "      <td>0.033526</td>\n",
       "      <td>29.418519</td>\n",
       "      <td>6.501952</td>\n",
       "      <td>158.116874</td>\n",
       "      <td>0.001011</td>\n",
       "      <td>0.001012</td>\n",
       "      <td>12.871938</td>\n",
       "      <td>7.496870</td>\n",
       "      <td>165.686783</td>\n",
       "      <td>1.0</td>\n",
       "    </tr>\n",
       "    <tr>\n",
       "      <th>1</th>\n",
       "      <td>0.515475</td>\n",
       "      <td>173.066755</td>\n",
       "      <td>79.473514</td>\n",
       "      <td>1468.718965</td>\n",
       "      <td>0.209615</td>\n",
       "      <td>0.211893</td>\n",
       "      <td>135.934008</td>\n",
       "      <td>88.790428</td>\n",
       "      <td>18478.054406</td>\n",
       "      <td>1.0</td>\n",
       "    </tr>\n",
       "    <tr>\n",
       "      <th>2</th>\n",
       "      <td>0.282911</td>\n",
       "      <td>128.748397</td>\n",
       "      <td>18.491902</td>\n",
       "      <td>1137.846965</td>\n",
       "      <td>0.078117</td>\n",
       "      <td>0.078275</td>\n",
       "      <td>85.572404</td>\n",
       "      <td>39.782522</td>\n",
       "      <td>7322.636355</td>\n",
       "      <td>1.0</td>\n",
       "    </tr>\n",
       "    <tr>\n",
       "      <th>3</th>\n",
       "      <td>0.668339</td>\n",
       "      <td>199.018340</td>\n",
       "      <td>50.365853</td>\n",
       "      <td>1821.904978</td>\n",
       "      <td>0.280281</td>\n",
       "      <td>0.282520</td>\n",
       "      <td>143.185040</td>\n",
       "      <td>73.653511</td>\n",
       "      <td>20501.955571</td>\n",
       "      <td>1.0</td>\n",
       "    </tr>\n",
       "    <tr>\n",
       "      <th>4</th>\n",
       "      <td>0.453698</td>\n",
       "      <td>166.270553</td>\n",
       "      <td>40.897270</td>\n",
       "      <td>2083.473957</td>\n",
       "      <td>0.201416</td>\n",
       "      <td>0.202895</td>\n",
       "      <td>149.786324</td>\n",
       "      <td>68.844244</td>\n",
       "      <td>22435.942710</td>\n",
       "      <td>1.0</td>\n",
       "    </tr>\n",
       "  </tbody>\n",
       "</table>\n",
       "</div>"
      ],
      "text/plain": [
       "   braycurtis_dis  canberra_dis  chebyshev_dis  cityblock_dis  \\\n",
       "0        0.033526     29.418519       6.501952     158.116874   \n",
       "1        0.515475    173.066755      79.473514    1468.718965   \n",
       "2        0.282911    128.748397      18.491902    1137.846965   \n",
       "3        0.668339    199.018340      50.365853    1821.904978   \n",
       "4        0.453698    166.270553      40.897270    2083.473957   \n",
       "\n",
       "   correlation_dis  cosine_dis  euclidean_dis  minkowski_dis  sqeuclidean_dis  \\\n",
       "0         0.001011    0.001012      12.871938       7.496870       165.686783   \n",
       "1         0.209615    0.211893     135.934008      88.790428     18478.054406   \n",
       "2         0.078117    0.078275      85.572404      39.782522      7322.636355   \n",
       "3         0.280281    0.282520     143.185040      73.653511     20501.955571   \n",
       "4         0.201416    0.202895     149.786324      68.844244     22435.942710   \n",
       "\n",
       "   hamming_dis  \n",
       "0          1.0  \n",
       "1          1.0  \n",
       "2          1.0  \n",
       "3          1.0  \n",
       "4          1.0  "
      ]
     },
     "execution_count": 10,
     "metadata": {},
     "output_type": "execute_result"
    }
   ],
   "source": [
    "df1.head()\n"
   ]
  },
  {
   "cell_type": "code",
   "execution_count": 18,
   "metadata": {
    "collapsed": true
   },
   "outputs": [],
   "source": [
    "import gensim.models"
   ]
  },
  {
   "cell_type": "code",
   "execution_count": 31,
   "metadata": {
    "collapsed": true,
    "scrolled": false
   },
   "outputs": [],
   "source": [
    "#word2vec_model = gensim.models.KeyedVectors.load_word2vec_format('GoogleNews-vectors-negative300.bin', binary=True)\n",
    "#word2vec_model.init_sims(replace=True) \n",
    "# normalizes vectors\n",
    "# Compute WMD as normal.\n",
    "#distance = word2vec_model.wmdistance(\"string 1\".split(), \"string 2\".split())\n",
    "\n"
   ]
  },
  {
   "cell_type": "code",
   "execution_count": 30,
   "metadata": {
    "collapsed": true
   },
   "outputs": [],
   "source": [
    "#from pyemd import wmdistance\n",
    "#df1['word_mover_dis'] = df.apply(lambda row: word2vec_model.wmdistance(row['question1'].split(), row['question2'].split()), axis=1)"
   ]
  },
  {
   "cell_type": "code",
   "execution_count": 25,
   "metadata": {},
   "outputs": [
    {
     "data": {
      "text/html": [
       "<div>\n",
       "<style>\n",
       "    .dataframe thead tr:only-child th {\n",
       "        text-align: right;\n",
       "    }\n",
       "\n",
       "    .dataframe thead th {\n",
       "        text-align: left;\n",
       "    }\n",
       "\n",
       "    .dataframe tbody tr th {\n",
       "        vertical-align: top;\n",
       "    }\n",
       "</style>\n",
       "<table border=\"1\" class=\"dataframe\">\n",
       "  <thead>\n",
       "    <tr style=\"text-align: right;\">\n",
       "      <th></th>\n",
       "      <th>braycurtis_dis</th>\n",
       "      <th>canberra_dis</th>\n",
       "      <th>chebyshev_dis</th>\n",
       "      <th>cityblock_dis</th>\n",
       "      <th>correlation_dis</th>\n",
       "      <th>cosine_dis</th>\n",
       "      <th>euclidean_dis</th>\n",
       "      <th>minkowski_dis</th>\n",
       "      <th>sqeuclidean_dis</th>\n",
       "      <th>hamming_dis</th>\n",
       "    </tr>\n",
       "  </thead>\n",
       "  <tbody>\n",
       "    <tr>\n",
       "      <th>0</th>\n",
       "      <td>0.033526</td>\n",
       "      <td>29.418519</td>\n",
       "      <td>6.501952</td>\n",
       "      <td>158.116874</td>\n",
       "      <td>0.001011</td>\n",
       "      <td>0.001012</td>\n",
       "      <td>12.871938</td>\n",
       "      <td>7.496870</td>\n",
       "      <td>165.686783</td>\n",
       "      <td>1.0</td>\n",
       "    </tr>\n",
       "    <tr>\n",
       "      <th>1</th>\n",
       "      <td>0.515475</td>\n",
       "      <td>173.066755</td>\n",
       "      <td>79.473514</td>\n",
       "      <td>1468.718965</td>\n",
       "      <td>0.209615</td>\n",
       "      <td>0.211893</td>\n",
       "      <td>135.934008</td>\n",
       "      <td>88.790428</td>\n",
       "      <td>18478.054406</td>\n",
       "      <td>1.0</td>\n",
       "    </tr>\n",
       "    <tr>\n",
       "      <th>2</th>\n",
       "      <td>0.282911</td>\n",
       "      <td>128.748397</td>\n",
       "      <td>18.491902</td>\n",
       "      <td>1137.846965</td>\n",
       "      <td>0.078117</td>\n",
       "      <td>0.078275</td>\n",
       "      <td>85.572404</td>\n",
       "      <td>39.782522</td>\n",
       "      <td>7322.636355</td>\n",
       "      <td>1.0</td>\n",
       "    </tr>\n",
       "    <tr>\n",
       "      <th>3</th>\n",
       "      <td>0.668339</td>\n",
       "      <td>199.018340</td>\n",
       "      <td>50.365853</td>\n",
       "      <td>1821.904978</td>\n",
       "      <td>0.280281</td>\n",
       "      <td>0.282520</td>\n",
       "      <td>143.185040</td>\n",
       "      <td>73.653511</td>\n",
       "      <td>20501.955571</td>\n",
       "      <td>1.0</td>\n",
       "    </tr>\n",
       "    <tr>\n",
       "      <th>4</th>\n",
       "      <td>0.453698</td>\n",
       "      <td>166.270553</td>\n",
       "      <td>40.897270</td>\n",
       "      <td>2083.473957</td>\n",
       "      <td>0.201416</td>\n",
       "      <td>0.202895</td>\n",
       "      <td>149.786324</td>\n",
       "      <td>68.844244</td>\n",
       "      <td>22435.942710</td>\n",
       "      <td>1.0</td>\n",
       "    </tr>\n",
       "  </tbody>\n",
       "</table>\n",
       "</div>"
      ],
      "text/plain": [
       "   braycurtis_dis  canberra_dis  chebyshev_dis  cityblock_dis  \\\n",
       "0        0.033526     29.418519       6.501952     158.116874   \n",
       "1        0.515475    173.066755      79.473514    1468.718965   \n",
       "2        0.282911    128.748397      18.491902    1137.846965   \n",
       "3        0.668339    199.018340      50.365853    1821.904978   \n",
       "4        0.453698    166.270553      40.897270    2083.473957   \n",
       "\n",
       "   correlation_dis  cosine_dis  euclidean_dis  minkowski_dis  sqeuclidean_dis  \\\n",
       "0         0.001011    0.001012      12.871938       7.496870       165.686783   \n",
       "1         0.209615    0.211893     135.934008      88.790428     18478.054406   \n",
       "2         0.078117    0.078275      85.572404      39.782522      7322.636355   \n",
       "3         0.280281    0.282520     143.185040      73.653511     20501.955571   \n",
       "4         0.201416    0.202895     149.786324      68.844244     22435.942710   \n",
       "\n",
       "   hamming_dis  \n",
       "0          1.0  \n",
       "1          1.0  \n",
       "2          1.0  \n",
       "3          1.0  \n",
       "4          1.0  "
      ]
     },
     "execution_count": 25,
     "metadata": {},
     "output_type": "execute_result"
    }
   ],
   "source": [
    "df1.head()"
   ]
  },
  {
   "cell_type": "code",
   "execution_count": 26,
   "metadata": {
    "collapsed": true
   },
   "outputs": [],
   "source": [
    "df1.to_csv(\"W2V_vec_distance_features_train1.csv\", index=False)"
   ]
  },
  {
   "cell_type": "code",
   "execution_count": 29,
   "metadata": {
    "collapsed": true
   },
   "outputs": [],
   "source": [
    "#import numpy.linalg\n",
    "#df[\"q1_inverse\"] = df.apply(lambda row: numpy.linalg.inv(row[\"q1_feats_m\"]), axis=1)\n",
    "#df[\"q2_inverse\"] = df.apply(lambda row: numpy.linalg.inv(row[\"q2_feats_m\"]), axis=1)"
   ]
  },
  {
   "cell_type": "code",
   "execution_count": 27,
   "metadata": {
    "collapsed": true
   },
   "outputs": [],
   "source": [
    "#df.to_csv(\"wtov_mean_features_train.csv\", index=False)"
   ]
  },
  {
   "cell_type": "code",
   "execution_count": 5,
   "metadata": {
    "collapsed": true
   },
   "outputs": [],
   "source": [
    "#prepro_features_train.csv (Simple Preprocessing Feartures)\n",
    "#nlp_features_train.csv (NLP Features)\n",
    "dfnlp = pd.read_csv(\"df1_nlp1_features.csv\")\n",
    "dfppro = pd.read_csv(\"df1_preprocessing1_features.csv\")\n",
    "dfw2v = pd.read_csv(\"W2V_vec_distance_features_train1.csv\")\n",
    "\n",
    "#dfnlp.shape"
   ]
  },
  {
   "cell_type": "code",
   "execution_count": 7,
   "metadata": {},
   "outputs": [
    {
     "data": {
      "text/plain": [
       "(404290, 48)"
      ]
     },
     "execution_count": 7,
     "metadata": {},
     "output_type": "execute_result"
    }
   ],
   "source": [
    "dfnlp.shape"
   ]
  },
  {
   "cell_type": "code",
   "execution_count": 8,
   "metadata": {},
   "outputs": [
    {
     "data": {
      "text/html": [
       "<div>\n",
       "<style>\n",
       "    .dataframe thead tr:only-child th {\n",
       "        text-align: right;\n",
       "    }\n",
       "\n",
       "    .dataframe thead th {\n",
       "        text-align: left;\n",
       "    }\n",
       "\n",
       "    .dataframe tbody tr th {\n",
       "        vertical-align: top;\n",
       "    }\n",
       "</style>\n",
       "<table border=\"1\" class=\"dataframe\">\n",
       "  <thead>\n",
       "    <tr style=\"text-align: right;\">\n",
       "      <th></th>\n",
       "      <th>freq_qid1</th>\n",
       "      <th>freq_qid2</th>\n",
       "      <th>q1len</th>\n",
       "      <th>q2len</th>\n",
       "      <th>q1_n_words</th>\n",
       "      <th>q2_n_words</th>\n",
       "      <th>word_Common</th>\n",
       "      <th>word_Total</th>\n",
       "      <th>word_share</th>\n",
       "      <th>freq_q1+q2</th>\n",
       "      <th>freq_q1-q2</th>\n",
       "      <th>capital_1</th>\n",
       "      <th>capital_2</th>\n",
       "      <th>capital_total</th>\n",
       "      <th>capital_diff</th>\n",
       "      <th>bigram_common</th>\n",
       "      <th>bigram_total</th>\n",
       "      <th>bigram_ratio</th>\n",
       "      <th>tfidf</th>\n",
       "      <th>tfidf_unigram_word_match</th>\n",
       "    </tr>\n",
       "  </thead>\n",
       "  <tbody>\n",
       "    <tr>\n",
       "      <th>0</th>\n",
       "      <td>1</td>\n",
       "      <td>1</td>\n",
       "      <td>66</td>\n",
       "      <td>57</td>\n",
       "      <td>14</td>\n",
       "      <td>12</td>\n",
       "      <td>10.0</td>\n",
       "      <td>23.0</td>\n",
       "      <td>0.434783</td>\n",
       "      <td>2</td>\n",
       "      <td>0</td>\n",
       "      <td>1.0</td>\n",
       "      <td>1.0</td>\n",
       "      <td>2.0</td>\n",
       "      <td>0.0</td>\n",
       "      <td>11.0</td>\n",
       "      <td>15.0</td>\n",
       "      <td>0.733333</td>\n",
       "      <td>(0, 77556)\\t0.0756699844518\\n  (0, 35701)\\t0...</td>\n",
       "      <td>0.966742</td>\n",
       "    </tr>\n",
       "    <tr>\n",
       "      <th>1</th>\n",
       "      <td>4</td>\n",
       "      <td>1</td>\n",
       "      <td>51</td>\n",
       "      <td>88</td>\n",
       "      <td>8</td>\n",
       "      <td>13</td>\n",
       "      <td>4.0</td>\n",
       "      <td>20.0</td>\n",
       "      <td>0.200000</td>\n",
       "      <td>5</td>\n",
       "      <td>3</td>\n",
       "      <td>5.0</td>\n",
       "      <td>5.0</td>\n",
       "      <td>10.0</td>\n",
       "      <td>0.0</td>\n",
       "      <td>6.0</td>\n",
       "      <td>23.0</td>\n",
       "      <td>0.260870</td>\n",
       "      <td>(0, 77556)\\t0.0701848729964\\n  (0, 35701)\\t0...</td>\n",
       "      <td>0.650728</td>\n",
       "    </tr>\n",
       "    <tr>\n",
       "      <th>2</th>\n",
       "      <td>1</td>\n",
       "      <td>1</td>\n",
       "      <td>73</td>\n",
       "      <td>59</td>\n",
       "      <td>14</td>\n",
       "      <td>10</td>\n",
       "      <td>4.0</td>\n",
       "      <td>24.0</td>\n",
       "      <td>0.166667</td>\n",
       "      <td>2</td>\n",
       "      <td>0</td>\n",
       "      <td>5.0</td>\n",
       "      <td>5.0</td>\n",
       "      <td>10.0</td>\n",
       "      <td>0.0</td>\n",
       "      <td>1.0</td>\n",
       "      <td>23.0</td>\n",
       "      <td>0.043478</td>\n",
       "      <td>(0, 70831)\\t0.0540481138459\\n  (0, 10064)\\t0...</td>\n",
       "      <td>0.301877</td>\n",
       "    </tr>\n",
       "    <tr>\n",
       "      <th>3</th>\n",
       "      <td>1</td>\n",
       "      <td>1</td>\n",
       "      <td>50</td>\n",
       "      <td>65</td>\n",
       "      <td>11</td>\n",
       "      <td>9</td>\n",
       "      <td>0.0</td>\n",
       "      <td>19.0</td>\n",
       "      <td>0.000000</td>\n",
       "      <td>2</td>\n",
       "      <td>0</td>\n",
       "      <td>4.0</td>\n",
       "      <td>1.0</td>\n",
       "      <td>5.0</td>\n",
       "      <td>3.0</td>\n",
       "      <td>0.0</td>\n",
       "      <td>23.0</td>\n",
       "      <td>0.000000</td>\n",
       "      <td>(0, 35701)\\t0.0668356636523\\n  (0, 70831)\\t0...</td>\n",
       "      <td>0.000000</td>\n",
       "    </tr>\n",
       "    <tr>\n",
       "      <th>4</th>\n",
       "      <td>3</td>\n",
       "      <td>1</td>\n",
       "      <td>76</td>\n",
       "      <td>39</td>\n",
       "      <td>13</td>\n",
       "      <td>7</td>\n",
       "      <td>2.0</td>\n",
       "      <td>20.0</td>\n",
       "      <td>0.100000</td>\n",
       "      <td>4</td>\n",
       "      <td>2</td>\n",
       "      <td>1.0</td>\n",
       "      <td>1.0</td>\n",
       "      <td>2.0</td>\n",
       "      <td>0.0</td>\n",
       "      <td>0.0</td>\n",
       "      <td>22.0</td>\n",
       "      <td>0.000000</td>\n",
       "      <td>(0, 33839)\\t0.116120577565\\n  (0, 78429)\\t0....</td>\n",
       "      <td>0.293379</td>\n",
       "    </tr>\n",
       "  </tbody>\n",
       "</table>\n",
       "</div>"
      ],
      "text/plain": [
       "   freq_qid1  freq_qid2  q1len  q2len  q1_n_words  q2_n_words  word_Common  \\\n",
       "0          1          1     66     57          14          12         10.0   \n",
       "1          4          1     51     88           8          13          4.0   \n",
       "2          1          1     73     59          14          10          4.0   \n",
       "3          1          1     50     65          11           9          0.0   \n",
       "4          3          1     76     39          13           7          2.0   \n",
       "\n",
       "   word_Total  word_share  freq_q1+q2  freq_q1-q2  capital_1  capital_2  \\\n",
       "0        23.0    0.434783           2           0        1.0        1.0   \n",
       "1        20.0    0.200000           5           3        5.0        5.0   \n",
       "2        24.0    0.166667           2           0        5.0        5.0   \n",
       "3        19.0    0.000000           2           0        4.0        1.0   \n",
       "4        20.0    0.100000           4           2        1.0        1.0   \n",
       "\n",
       "   capital_total  capital_diff  bigram_common  bigram_total  bigram_ratio  \\\n",
       "0            2.0           0.0           11.0          15.0      0.733333   \n",
       "1           10.0           0.0            6.0          23.0      0.260870   \n",
       "2           10.0           0.0            1.0          23.0      0.043478   \n",
       "3            5.0           3.0            0.0          23.0      0.000000   \n",
       "4            2.0           0.0            0.0          22.0      0.000000   \n",
       "\n",
       "                                               tfidf  tfidf_unigram_word_match  \n",
       "0    (0, 77556)\\t0.0756699844518\\n  (0, 35701)\\t0...                  0.966742  \n",
       "1    (0, 77556)\\t0.0701848729964\\n  (0, 35701)\\t0...                  0.650728  \n",
       "2    (0, 70831)\\t0.0540481138459\\n  (0, 10064)\\t0...                  0.301877  \n",
       "3    (0, 35701)\\t0.0668356636523\\n  (0, 70831)\\t0...                  0.000000  \n",
       "4    (0, 33839)\\t0.116120577565\\n  (0, 78429)\\t0....                  0.293379  "
      ]
     },
     "execution_count": 8,
     "metadata": {},
     "output_type": "execute_result"
    }
   ],
   "source": [
    "dfppro.head()"
   ]
  },
  {
   "cell_type": "code",
   "execution_count": 10,
   "metadata": {},
   "outputs": [
    {
     "data": {
      "text/html": [
       "<div>\n",
       "<style>\n",
       "    .dataframe thead tr:only-child th {\n",
       "        text-align: right;\n",
       "    }\n",
       "\n",
       "    .dataframe thead th {\n",
       "        text-align: left;\n",
       "    }\n",
       "\n",
       "    .dataframe tbody tr th {\n",
       "        vertical-align: top;\n",
       "    }\n",
       "</style>\n",
       "<table border=\"1\" class=\"dataframe\">\n",
       "  <thead>\n",
       "    <tr style=\"text-align: right;\">\n",
       "      <th></th>\n",
       "      <th>cwc_min</th>\n",
       "      <th>cwc_max</th>\n",
       "      <th>csc_min</th>\n",
       "      <th>csc_max</th>\n",
       "      <th>ctc_min</th>\n",
       "      <th>ctc_max</th>\n",
       "      <th>last_word_eq</th>\n",
       "      <th>first_word_eq</th>\n",
       "      <th>abs_len_diff</th>\n",
       "      <th>mean_len</th>\n",
       "      <th>token_set_ratio</th>\n",
       "      <th>token_sort_ratio</th>\n",
       "      <th>fuzz_ratio</th>\n",
       "      <th>fuzz_partial_ratio</th>\n",
       "      <th>longest_substr_ratio</th>\n",
       "    </tr>\n",
       "  </thead>\n",
       "  <tbody>\n",
       "    <tr>\n",
       "      <th>0</th>\n",
       "      <td>0.999980</td>\n",
       "      <td>0.833319</td>\n",
       "      <td>0.999983</td>\n",
       "      <td>0.999983</td>\n",
       "      <td>0.916659</td>\n",
       "      <td>0.785709</td>\n",
       "      <td>0.0</td>\n",
       "      <td>1.0</td>\n",
       "      <td>2.0</td>\n",
       "      <td>13.0</td>\n",
       "      <td>100</td>\n",
       "      <td>93</td>\n",
       "      <td>93</td>\n",
       "      <td>100</td>\n",
       "      <td>0</td>\n",
       "    </tr>\n",
       "    <tr>\n",
       "      <th>1</th>\n",
       "      <td>0.799984</td>\n",
       "      <td>0.399996</td>\n",
       "      <td>0.749981</td>\n",
       "      <td>0.599988</td>\n",
       "      <td>0.699993</td>\n",
       "      <td>0.466664</td>\n",
       "      <td>0.0</td>\n",
       "      <td>1.0</td>\n",
       "      <td>5.0</td>\n",
       "      <td>12.0</td>\n",
       "      <td>86</td>\n",
       "      <td>63</td>\n",
       "      <td>66</td>\n",
       "      <td>75</td>\n",
       "      <td>0</td>\n",
       "    </tr>\n",
       "    <tr>\n",
       "      <th>2</th>\n",
       "      <td>0.399992</td>\n",
       "      <td>0.333328</td>\n",
       "      <td>0.399992</td>\n",
       "      <td>0.249997</td>\n",
       "      <td>0.399996</td>\n",
       "      <td>0.285712</td>\n",
       "      <td>0.0</td>\n",
       "      <td>1.0</td>\n",
       "      <td>4.0</td>\n",
       "      <td>12.0</td>\n",
       "      <td>63</td>\n",
       "      <td>63</td>\n",
       "      <td>43</td>\n",
       "      <td>47</td>\n",
       "      <td>0</td>\n",
       "    </tr>\n",
       "    <tr>\n",
       "      <th>3</th>\n",
       "      <td>0.000000</td>\n",
       "      <td>0.000000</td>\n",
       "      <td>0.000000</td>\n",
       "      <td>0.000000</td>\n",
       "      <td>0.000000</td>\n",
       "      <td>0.000000</td>\n",
       "      <td>0.0</td>\n",
       "      <td>0.0</td>\n",
       "      <td>2.0</td>\n",
       "      <td>12.0</td>\n",
       "      <td>28</td>\n",
       "      <td>24</td>\n",
       "      <td>9</td>\n",
       "      <td>14</td>\n",
       "      <td>0</td>\n",
       "    </tr>\n",
       "    <tr>\n",
       "      <th>4</th>\n",
       "      <td>0.399992</td>\n",
       "      <td>0.199998</td>\n",
       "      <td>0.999950</td>\n",
       "      <td>0.666644</td>\n",
       "      <td>0.571420</td>\n",
       "      <td>0.307690</td>\n",
       "      <td>0.0</td>\n",
       "      <td>1.0</td>\n",
       "      <td>6.0</td>\n",
       "      <td>10.0</td>\n",
       "      <td>67</td>\n",
       "      <td>47</td>\n",
       "      <td>35</td>\n",
       "      <td>56</td>\n",
       "      <td>0</td>\n",
       "    </tr>\n",
       "  </tbody>\n",
       "</table>\n",
       "</div>"
      ],
      "text/plain": [
       "    cwc_min   cwc_max   csc_min   csc_max   ctc_min   ctc_max  last_word_eq  \\\n",
       "0  0.999980  0.833319  0.999983  0.999983  0.916659  0.785709           0.0   \n",
       "1  0.799984  0.399996  0.749981  0.599988  0.699993  0.466664           0.0   \n",
       "2  0.399992  0.333328  0.399992  0.249997  0.399996  0.285712           0.0   \n",
       "3  0.000000  0.000000  0.000000  0.000000  0.000000  0.000000           0.0   \n",
       "4  0.399992  0.199998  0.999950  0.666644  0.571420  0.307690           0.0   \n",
       "\n",
       "   first_word_eq  abs_len_diff  mean_len  token_set_ratio  token_sort_ratio  \\\n",
       "0            1.0           2.0      13.0              100                93   \n",
       "1            1.0           5.0      12.0               86                63   \n",
       "2            1.0           4.0      12.0               63                63   \n",
       "3            0.0           2.0      12.0               28                24   \n",
       "4            1.0           6.0      10.0               67                47   \n",
       "\n",
       "   fuzz_ratio  fuzz_partial_ratio  longest_substr_ratio  \n",
       "0          93                 100                     0  \n",
       "1          66                  75                     0  \n",
       "2          43                  47                     0  \n",
       "3           9                  14                     0  \n",
       "4          35                  56                     0  "
      ]
     },
     "execution_count": 10,
     "metadata": {},
     "output_type": "execute_result"
    }
   ],
   "source": [
    "dfnlp.head()"
   ]
  },
  {
   "cell_type": "code",
   "execution_count": 6,
   "metadata": {},
   "outputs": [
    {
     "data": {
      "text/plain": [
       "(404290, 80)"
      ]
     },
     "execution_count": 6,
     "metadata": {},
     "output_type": "execute_result"
    }
   ],
   "source": [
    "#all_feats = np.concatenate()\n",
    "\n",
    "#frames = [df, dfppro, dfnlp]\n",
    "\n",
    "df_all_features = pd.concat([dfppro, dfnlp, dfw2v], axis=1)\n",
    "df_all_features.shape"
   ]
  },
  {
   "cell_type": "code",
   "execution_count": 10,
   "metadata": {
    "scrolled": true
   },
   "outputs": [
    {
     "data": {
      "text/html": [
       "<div>\n",
       "<style>\n",
       "    .dataframe thead tr:only-child th {\n",
       "        text-align: right;\n",
       "    }\n",
       "\n",
       "    .dataframe thead th {\n",
       "        text-align: left;\n",
       "    }\n",
       "\n",
       "    .dataframe tbody tr th {\n",
       "        vertical-align: top;\n",
       "    }\n",
       "</style>\n",
       "<table border=\"1\" class=\"dataframe\">\n",
       "  <thead>\n",
       "    <tr style=\"text-align: right;\">\n",
       "      <th></th>\n",
       "      <th>freq_qid1</th>\n",
       "      <th>freq_qid2</th>\n",
       "      <th>q1len</th>\n",
       "      <th>q2len</th>\n",
       "      <th>q1_n_words</th>\n",
       "      <th>q2_n_words</th>\n",
       "      <th>word_Common</th>\n",
       "      <th>word_Total</th>\n",
       "      <th>word_share</th>\n",
       "      <th>freq_q1+q2</th>\n",
       "      <th>...</th>\n",
       "      <th>chebyshev_dis</th>\n",
       "      <th>cityblock_dis</th>\n",
       "      <th>correlation_dis</th>\n",
       "      <th>cosine_dis</th>\n",
       "      <th>euclidean_dis</th>\n",
       "      <th>minkowski_dis</th>\n",
       "      <th>sqeuclidean_dis</th>\n",
       "      <th>hamming_dis</th>\n",
       "      <th>q1_pr</th>\n",
       "      <th>q2_pr</th>\n",
       "    </tr>\n",
       "  </thead>\n",
       "  <tbody>\n",
       "    <tr>\n",
       "      <th>0</th>\n",
       "      <td>1</td>\n",
       "      <td>1</td>\n",
       "      <td>66</td>\n",
       "      <td>57</td>\n",
       "      <td>14</td>\n",
       "      <td>12</td>\n",
       "      <td>10.0</td>\n",
       "      <td>23.0</td>\n",
       "      <td>0.434783</td>\n",
       "      <td>2</td>\n",
       "      <td>...</td>\n",
       "      <td>6.501952</td>\n",
       "      <td>158.116874</td>\n",
       "      <td>0.001011</td>\n",
       "      <td>0.001012</td>\n",
       "      <td>12.871938</td>\n",
       "      <td>7.496870</td>\n",
       "      <td>165.686783</td>\n",
       "      <td>1.0</td>\n",
       "      <td>1.608480e-07</td>\n",
       "      <td>3.047631e-07</td>\n",
       "    </tr>\n",
       "    <tr>\n",
       "      <th>1</th>\n",
       "      <td>4</td>\n",
       "      <td>1</td>\n",
       "      <td>51</td>\n",
       "      <td>88</td>\n",
       "      <td>8</td>\n",
       "      <td>13</td>\n",
       "      <td>4.0</td>\n",
       "      <td>20.0</td>\n",
       "      <td>0.200000</td>\n",
       "      <td>5</td>\n",
       "      <td>...</td>\n",
       "      <td>79.473514</td>\n",
       "      <td>1468.718965</td>\n",
       "      <td>0.209615</td>\n",
       "      <td>0.211893</td>\n",
       "      <td>135.934008</td>\n",
       "      <td>88.790428</td>\n",
       "      <td>18478.054406</td>\n",
       "      <td>1.0</td>\n",
       "      <td>8.198776e-07</td>\n",
       "      <td>3.097268e-07</td>\n",
       "    </tr>\n",
       "    <tr>\n",
       "      <th>2</th>\n",
       "      <td>1</td>\n",
       "      <td>1</td>\n",
       "      <td>73</td>\n",
       "      <td>59</td>\n",
       "      <td>14</td>\n",
       "      <td>10</td>\n",
       "      <td>4.0</td>\n",
       "      <td>24.0</td>\n",
       "      <td>0.166667</td>\n",
       "      <td>2</td>\n",
       "      <td>...</td>\n",
       "      <td>18.491902</td>\n",
       "      <td>1137.846965</td>\n",
       "      <td>0.078117</td>\n",
       "      <td>0.078275</td>\n",
       "      <td>85.572404</td>\n",
       "      <td>39.782522</td>\n",
       "      <td>7322.636355</td>\n",
       "      <td>1.0</td>\n",
       "      <td>3.049200e-07</td>\n",
       "      <td>1.609126e-07</td>\n",
       "    </tr>\n",
       "    <tr>\n",
       "      <th>3</th>\n",
       "      <td>1</td>\n",
       "      <td>1</td>\n",
       "      <td>50</td>\n",
       "      <td>65</td>\n",
       "      <td>11</td>\n",
       "      <td>9</td>\n",
       "      <td>0.0</td>\n",
       "      <td>19.0</td>\n",
       "      <td>0.000000</td>\n",
       "      <td>2</td>\n",
       "      <td>...</td>\n",
       "      <td>50.365853</td>\n",
       "      <td>1821.904978</td>\n",
       "      <td>0.280281</td>\n",
       "      <td>0.282520</td>\n",
       "      <td>143.185040</td>\n",
       "      <td>73.653511</td>\n",
       "      <td>20501.955571</td>\n",
       "      <td>1.0</td>\n",
       "      <td>2.088105e-07</td>\n",
       "      <td>2.088105e-07</td>\n",
       "    </tr>\n",
       "    <tr>\n",
       "      <th>4</th>\n",
       "      <td>3</td>\n",
       "      <td>1</td>\n",
       "      <td>76</td>\n",
       "      <td>39</td>\n",
       "      <td>13</td>\n",
       "      <td>7</td>\n",
       "      <td>2.0</td>\n",
       "      <td>20.0</td>\n",
       "      <td>0.100000</td>\n",
       "      <td>4</td>\n",
       "      <td>...</td>\n",
       "      <td>40.897270</td>\n",
       "      <td>2083.473957</td>\n",
       "      <td>0.201416</td>\n",
       "      <td>0.202895</td>\n",
       "      <td>149.786324</td>\n",
       "      <td>68.844244</td>\n",
       "      <td>22435.942710</td>\n",
       "      <td>1.0</td>\n",
       "      <td>3.406708e-07</td>\n",
       "      <td>1.278450e-07</td>\n",
       "    </tr>\n",
       "  </tbody>\n",
       "</table>\n",
       "<p>5 rows × 80 columns</p>\n",
       "</div>"
      ],
      "text/plain": [
       "   freq_qid1  freq_qid2  q1len  q2len  q1_n_words  q2_n_words  word_Common  \\\n",
       "0          1          1     66     57          14          12         10.0   \n",
       "1          4          1     51     88           8          13          4.0   \n",
       "2          1          1     73     59          14          10          4.0   \n",
       "3          1          1     50     65          11           9          0.0   \n",
       "4          3          1     76     39          13           7          2.0   \n",
       "\n",
       "   word_Total  word_share  freq_q1+q2      ...       chebyshev_dis  \\\n",
       "0        23.0    0.434783           2      ...            6.501952   \n",
       "1        20.0    0.200000           5      ...           79.473514   \n",
       "2        24.0    0.166667           2      ...           18.491902   \n",
       "3        19.0    0.000000           2      ...           50.365853   \n",
       "4        20.0    0.100000           4      ...           40.897270   \n",
       "\n",
       "   cityblock_dis  correlation_dis  cosine_dis  euclidean_dis  minkowski_dis  \\\n",
       "0     158.116874         0.001011    0.001012      12.871938       7.496870   \n",
       "1    1468.718965         0.209615    0.211893     135.934008      88.790428   \n",
       "2    1137.846965         0.078117    0.078275      85.572404      39.782522   \n",
       "3    1821.904978         0.280281    0.282520     143.185040      73.653511   \n",
       "4    2083.473957         0.201416    0.202895     149.786324      68.844244   \n",
       "\n",
       "   sqeuclidean_dis  hamming_dis         q1_pr         q2_pr  \n",
       "0       165.686783          1.0  1.608480e-07  3.047631e-07  \n",
       "1     18478.054406          1.0  8.198776e-07  3.097268e-07  \n",
       "2      7322.636355          1.0  3.049200e-07  1.609126e-07  \n",
       "3     20501.955571          1.0  2.088105e-07  2.088105e-07  \n",
       "4     22435.942710          1.0  3.406708e-07  1.278450e-07  \n",
       "\n",
       "[5 rows x 80 columns]"
      ]
     },
     "execution_count": 10,
     "metadata": {},
     "output_type": "execute_result"
    }
   ],
   "source": [
    "df_all_features.head()"
   ]
  },
  {
   "cell_type": "code",
   "execution_count": 7,
   "metadata": {
    "collapsed": true
   },
   "outputs": [],
   "source": [
    "#W2V Question1 Vector\n",
    "Q1_vec = df['q1_feats_m'].values\n",
    "#W2V Question2 Vector\n",
    "Q2_vec = df['q2_feats_m'].values\n",
    "#Features Extracted in EDA\n",
    "feat_80 = df_all_features.values"
   ]
  },
  {
   "cell_type": "code",
   "execution_count": 14,
   "metadata": {},
   "outputs": [
    {
     "data": {
      "text/plain": [
       "array([1, 2, 3, 2, 3, 4, 3, 4])"
      ]
     },
     "execution_count": 14,
     "metadata": {},
     "output_type": "execute_result"
    }
   ],
   "source": [
    "a = [1,2,3]\n",
    "b = [2,3,4]\n",
    "c = [3,4]\n",
    "np.concatenate((a,b,c))\n",
    "\n",
    "sklearn.metrics.pairwise.pairwise_distances(X, Y=None, metric=’euclidean’, n_jobs=1, **kwds)"
   ]
  },
  {
   "cell_type": "markdown",
   "metadata": {},
   "source": [
    "- Creating a Single vector with the combination of all 2 W2V vectors and all Features(26)\n",
    "- \"features\"  : is the combined vectorof length 626 of all 3 thinngs"
   ]
  },
  {
   "cell_type": "code",
   "execution_count": 8,
   "metadata": {
    "collapsed": true
   },
   "outputs": [],
   "source": [
    "features = []\n",
    "for i in range(0,len(Q1_vec)):\n",
    "    Q1 = Q1_vec[i]\n",
    "    Q2 = Q2_vec[i]\n",
    "    f = feat_80[i]\n",
    "    features.append(np.concatenate((Q1,Q2,f)))"
   ]
  },
  {
   "cell_type": "code",
   "execution_count": 9,
   "metadata": {
    "scrolled": false
   },
   "outputs": [
    {
     "name": "stdout",
     "output_type": "stream",
     "text": [
      "680\n",
      "404290\n"
     ]
    }
   ],
   "source": [
    "features = np.array(features)\n",
    "print len(features[0])\n",
    "#print Q1_vec[0][0:15]\n",
    "#print Q2_vec[0][0:15]\n",
    "#print feat_26[0]\n",
    "print len(features)"
   ]
  },
  {
   "cell_type": "markdown",
   "metadata": {},
   "source": [
    "- \"lbl\" = Lables Values or class "
   ]
  },
  {
   "cell_type": "code",
   "execution_count": 10,
   "metadata": {
    "collapsed": true
   },
   "outputs": [],
   "source": [
    "lbl = df[\"is_duplicate\"].values"
   ]
  },
  {
   "cell_type": "markdown",
   "metadata": {
    "collapsed": true
   },
   "source": [
    "- Splitting the train and test data into 80% and 20%"
   ]
  },
  {
   "cell_type": "code",
   "execution_count": 11,
   "metadata": {},
   "outputs": [
    {
     "name": "stderr",
     "output_type": "stream",
     "text": [
      "/home/darshan_excellence/.local/lib/python2.7/site-packages/sklearn/cross_validation.py:44: DeprecationWarning: This module was deprecated in version 0.18 in favor of the model_selection module into which all the refactored classes and functions are moved. Also note that the interface of the new CV iterators are different from that of this module. This module will be removed in 0.20.\n",
      "  \"This module will be removed in 0.20.\", DeprecationWarning)\n"
     ]
    }
   ],
   "source": [
    "from sklearn.feature_extraction.text import CountVectorizer\n",
    "from sklearn.cross_validation import train_test_split\n",
    "from sklearn.model_selection import cross_val_score\n",
    "from sklearn.naive_bayes import MultinomialNB\n",
    "from sklearn.model_selection import GridSearchCV\n",
    "from sklearn.linear_model import LogisticRegression\n",
    "from sklearn.linear_model import SGDClassifier\n",
    "\n",
    "\n",
    "#test_proportion of 3 would mean 1/3 so 33% test and 67% train\n",
    "def shuffle(matrix, target, test_proportion):\n",
    "    ratio = matrix.shape[0]/test_proportion\n",
    "    X_train = matrix[ratio:,:]\n",
    "    X_test =  matrix[:ratio,:]\n",
    "    Y_train = target[ratio:]\n",
    "    Y_test =  target[:ratio]\n",
    "    return X_train, X_test, Y_train, Y_test\n",
    "X_train, X_test, Y_train, Y_test = shuffle(features, lbl, 5)"
   ]
  },
  {
   "cell_type": "markdown",
   "metadata": {
    "collapsed": true
   },
   "source": [
    "-Implementing Logistic Regression:"
   ]
  },
  {
   "cell_type": "code",
   "execution_count": null,
   "metadata": {
    "collapsed": true
   },
   "outputs": [],
   "source": [
    "#logistic regression\n",
    "\n",
    "best_params_logreg = []\n",
    "parameters = {'loss':['log'],'penalty':['l1','l2','elasticnet'],'alpha':[0.001,0.01,0.1,1,10,20,30,40,50,60,70,80,90,100], 'n_jobs':[-1]}\n",
    "\n",
    "clf = SGDClassifier()\n",
    "clf = GridSearchCV(clf,parameters,cv = 5)\n",
    "clf.fit(X_train,Y_train)\n",
    "best_params_logreg.append(clf.best_params_)\n",
    "print best_params_logreg"
   ]
  },
  {
   "cell_type": "code",
   "execution_count": 40,
   "metadata": {
    "collapsed": true
   },
   "outputs": [],
   "source": [
    "#Do a test with cross validation\n",
    "clf = SGDClassifier(loss= 'log',penalty = 'elasticnet',alpha = 0.01,n_jobs = -1)\n",
    "#choose best parameters\n",
    "score = cross_val_score(clf,X_train,Y_train,cv = 5)"
   ]
  },
  {
   "cell_type": "code",
   "execution_count": 41,
   "metadata": {},
   "outputs": [
    {
     "name": "stdout",
     "output_type": "stream",
     "text": [
      "0.777294759058\n"
     ]
    }
   ],
   "source": [
    "#cross validation score. Test it\n",
    "print sum(score)/len(score)"
   ]
  },
  {
   "cell_type": "code",
   "execution_count": 50,
   "metadata": {
    "collapsed": true
   },
   "outputs": [],
   "source": [
    "#test set Prediction\n",
    "from sklearn.metrics import confusion_matrix\n",
    "clf.fit(X_train,Y_train)\n",
    "Y_pred = clf.predict(X_test)\n",
    "conf_log_ref = confusion_matrix(Y_test,Y_pred)"
   ]
  },
  {
   "cell_type": "code",
   "execution_count": 54,
   "metadata": {},
   "outputs": [
    {
     "name": "stdout",
     "output_type": "stream",
     "text": [
      "[[48108  2599]\n",
      " [15690 14461]]\n"
     ]
    }
   ],
   "source": [
    "#confusion matrix\n",
    "print conf_log_ref"
   ]
  },
  {
   "cell_type": "code",
   "execution_count": 55,
   "metadata": {},
   "outputs": [
    {
     "name": "stdout",
     "output_type": "stream",
     "text": [
      "Test accuracy: 77.3813351802\n"
     ]
    }
   ],
   "source": [
    "true = conf_log_ref[0][0]+conf_log_ref[1][1]\n",
    "false = conf_log_ref[0][1]+conf_log_ref[1][0]\n",
    "print \"Test accuracy:\",float(true)*100/(true+false)"
   ]
  },
  {
   "cell_type": "code",
   "execution_count": 56,
   "metadata": {},
   "outputs": [
    {
     "data": {
      "image/png": "[encoded data removed]",
      "text/plain": [
       "<matplotlib.figure.Figure at 0x7f82f7c1e050>"
      ]
     },
     "metadata": {},
     "output_type": "display_data"
    },
    {
     "name": "stdout",
     "output_type": "stream",
     "text": [
      "Precision : 84.7655334115\n",
      "Recall : 47.9619249776\n"
     ]
    }
   ],
   "source": [
    "score_Log_reg = []\n",
    "\n",
    "#ROC for a given alpha for log reg\n",
    "from sklearn.metrics import roc_curve, auc\n",
    "# Compute ROC curve and ROC area for each class\n",
    "probs = clf.predict_proba(X_test)\n",
    "preds = probs[:,1]\n",
    "fpr, tpr, threshold = roc_curve(Y_test, preds)\n",
    "roc_auc = auc(fpr, tpr)\n",
    "\n",
    "#Plot ROC\n",
    "import matplotlib.pyplot as plt\n",
    "plt.figure(figsize=(12,8))\n",
    "plt.title('Receiver Operating Characteristic')\n",
    "plt.plot(fpr, tpr, 'b', label = 'AUC = %0.2f' % roc_auc)\n",
    "plt.legend(loc = 'lower right')\n",
    "plt.plot([0, 1], [0, 1],'r--')\n",
    "plt.xlim([0, 1])\n",
    "plt.ylim([0, 1])\n",
    "plt.ylabel('True Positive Rate')\n",
    "plt.xlabel('False Positive Rate')\n",
    "plt.show()\n",
    "\n",
    "\n",
    "\n",
    "\n",
    "\n",
    "#Precision and recall\n",
    "tn = conf_log_ref[0,0]; fp = conf_log_ref[0,1]; fn = conf_log_ref[1,0]; tp = conf_log_ref[1,1];\n",
    "\n",
    "precision = 100*float(tp)/(tp+fp)\n",
    "recall = 100*float(tp)/(tp+fn)\n",
    "\n",
    "print \"Precision :\",precision\n",
    "print \"Recall :\",recall\n"
   ]
  },
  {
   "cell_type": "code",
   "execution_count": 67,
   "metadata": {
    "collapsed": true
   },
   "outputs": [],
   "source": [
    "import numpy as np # linear algebra\n",
    "import pandas as pd # data processing, CSV file I/O (e.g. pd.read_csv)\n",
    "import os\n",
    "import gc\n",
    "import matplotlib.pyplot as plt\n",
    "import seaborn as sns\n",
    "%matplotlib inline"
   ]
  },
  {
   "cell_type": "markdown",
   "metadata": {},
   "source": [
    "Using XG-Boost for better result:"
   ]
  },
  {
   "cell_type": "code",
   "execution_count": null,
   "metadata": {
    "collapsed": true
   },
   "outputs": [],
   "source": [
    "#XG-Boost\n",
    "import xgboost as xgb"
   ]
  },
  {
   "cell_type": "code",
   "execution_count": null,
   "metadata": {},
   "outputs": [
    {
     "name": "stdout",
     "output_type": "stream",
     "text": [
      "[0]\ttrain-logloss:0.684874\tvalid-logloss:0.68485\n",
      "Multiple eval metrics have been passed: 'valid-logloss' will be used for early stopping.\n",
      "\n",
      "Will train until valid-logloss hasn't improved in 20 rounds.\n",
      "[10]\ttrain-logloss:0.61497\tvalid-logloss:0.614961\n",
      "[20]\ttrain-logloss:0.564574\tvalid-logloss:0.564663\n",
      "[30]\ttrain-logloss:0.526446\tvalid-logloss:0.526749\n",
      "[40]\ttrain-logloss:0.497318\tvalid-logloss:0.497832\n",
      "[50]\ttrain-logloss:0.474221\tvalid-logloss:0.474874\n",
      "[60]\ttrain-logloss:0.455786\tvalid-logloss:0.456649\n",
      "[70]\ttrain-logloss:0.441134\tvalid-logloss:0.442104\n",
      "[80]\ttrain-logloss:0.429209\tvalid-logloss:0.430262\n",
      "[90]\ttrain-logloss:0.419703\tvalid-logloss:0.4208\n",
      "[100]\ttrain-logloss:0.411767\tvalid-logloss:0.412922\n",
      "[110]\ttrain-logloss:0.405076\tvalid-logloss:0.406258\n",
      "[120]\ttrain-logloss:0.399539\tvalid-logloss:0.400765\n",
      "[130]\ttrain-logloss:0.394769\tvalid-logloss:0.396019\n",
      "[140]\ttrain-logloss:0.390956\tvalid-logloss:0.392238\n",
      "[150]\ttrain-logloss:0.387527\tvalid-logloss:0.388846\n",
      "[160]\ttrain-logloss:0.384669\tvalid-logloss:0.38604\n",
      "[170]\ttrain-logloss:0.381978\tvalid-logloss:0.383362\n",
      "[180]\ttrain-logloss:0.379621\tvalid-logloss:0.381041\n",
      "[190]\ttrain-logloss:0.377462\tvalid-logloss:0.378893\n",
      "[200]\ttrain-logloss:0.375461\tvalid-logloss:0.37693\n",
      "[210]\ttrain-logloss:0.373675\tvalid-logloss:0.3752\n",
      "[220]\ttrain-logloss:0.371957\tvalid-logloss:0.37353\n",
      "[230]\ttrain-logloss:0.370393\tvalid-logloss:0.372033\n",
      "[240]\ttrain-logloss:0.368707\tvalid-logloss:0.370371\n",
      "[250]\ttrain-logloss:0.367148\tvalid-logloss:0.368865\n",
      "[260]\ttrain-logloss:0.365737\tvalid-logloss:0.367475\n",
      "[270]\ttrain-logloss:0.364404\tvalid-logloss:0.366195\n",
      "[280]\ttrain-logloss:0.363237\tvalid-logloss:0.36508\n",
      "[290]\ttrain-logloss:0.362141\tvalid-logloss:0.364044\n",
      "[300]\ttrain-logloss:0.361074\tvalid-logloss:0.363046\n",
      "[310]\ttrain-logloss:0.359962\tvalid-logloss:0.362006\n",
      "[320]\ttrain-logloss:0.358912\tvalid-logloss:0.360999\n",
      "[330]\ttrain-logloss:0.357998\tvalid-logloss:0.360131\n",
      "[340]\ttrain-logloss:0.3571\tvalid-logloss:0.359289\n",
      "[350]\ttrain-logloss:0.356202\tvalid-logloss:0.358475\n",
      "[360]\ttrain-logloss:0.355354\tvalid-logloss:0.357722\n",
      "[370]\ttrain-logloss:0.354494\tvalid-logloss:0.356931\n",
      "[380]\ttrain-logloss:0.353653\tvalid-logloss:0.356164\n",
      "[390]\ttrain-logloss:0.352853\tvalid-logloss:0.355452\n"
     ]
    }
   ],
   "source": [
    "# Set our parameters for xgboost\n",
    "parameters = {'nthread':[4], #when use hyperthread, xgboost may become slower\n",
    "              'objective':['binary:logistic'],\n",
    "              'learning_rate': [0.05], #so called `eta` value\n",
    "              'max_depth': [6],\n",
    "              'min_child_weight': [11],\n",
    "              'silent': [1],\n",
    "              'subsample': [0.8],\n",
    "              'colsample_bytree': [0.7],\n",
    "              'n_estimators': [5], #number of trees, change it to 1000 for better results\n",
    "              'missing':[-999],\n",
    "              'seed': [1337]}\n",
    "\n",
    "d_train = xgb.DMatrix(X_train, label=Y_train)\n",
    "d_valid = xgb.DMatrix(X_test, label=Y_test)\n",
    "\n",
    "watchlist = [(d_train, 'train'), (d_valid, 'valid')]\n",
    "\n",
    "bst = xgb.train(params, d_train, 400, watchlist, early_stopping_rounds=20, verbose_eval=10)\n",
    "\n",
    "\n",
    "\n",
    "xgdmat = xgb.DMatrix(X_train, Y_train) # Create our DMatrix to make XGBoost more efficient\n",
    "#Now let’s specify our parameters"
   ]
  },
  {
   "cell_type": "code",
   "execution_count": 87,
   "metadata": {
    "collapsed": true
   },
   "outputs": [],
   "source": [
    "d_test = xgb.DMatrix(X_test)\n",
    "Y_pred = bst.predict(d_test)\n",
    "y_pred = Y_pred"
   ]
  },
  {
   "cell_type": "code",
   "execution_count": 88,
   "metadata": {},
   "outputs": [
    {
     "name": "stdout",
     "output_type": "stream",
     "text": [
      "[ 0.40809453  0.28530639  0.12771755 ...,  0.71649224  0.86554301\n",
      "  0.00338006]\n"
     ]
    }
   ],
   "source": [
    "\n",
    "print Y_pred\n",
    "for i in range(0,len(Y_pred)):\n",
    "    if Y_pred[i]>=0.5:\n",
    "        Y_pred[i]=1\n",
    "    else:\n",
    "        Y_pred[i]=0\n",
    "        "
   ]
  },
  {
   "cell_type": "code",
   "execution_count": 89,
   "metadata": {},
   "outputs": [
    {
     "name": "stdout",
     "output_type": "stream",
     "text": [
      "[[45598  5109]\n",
      " [ 9274 20877]]\n"
     ]
    }
   ],
   "source": [
    "conf_xgb = confusion_matrix(Y_test,Y_pred)\n",
    "print conf_xgb"
   ]
  },
  {
   "cell_type": "code",
   "execution_count": 90,
   "metadata": {},
   "outputs": [
    {
     "name": "stdout",
     "output_type": "stream",
     "text": [
      "Test accuracy with X-Gboost: 82.2120260209\n"
     ]
    }
   ],
   "source": [
    "true = conf_xgb[0][0]+conf_xgb[1][1]\n",
    "false = conf_xgb[0][1]+conf_xgb[1][0]\n",
    "print \"Test accuracy with X-Gboost:\",float(true)*100/(true+false)"
   ]
  },
  {
   "cell_type": "code",
   "execution_count": 91,
   "metadata": {},
   "outputs": [
    {
     "name": "stdout",
     "output_type": "stream",
     "text": [
      "Precision : 80.3394135304\n",
      "Recall : 69.2414845279\n"
     ]
    }
   ],
   "source": [
    "\n",
    "\n",
    "#Precision and recall\n",
    "tn = conf_xgb[0,0]; fp = conf_xgb[0,1]; fn = conf_xgb[1,0]; tp = conf_xgb[1,1];\n",
    "\n",
    "precision = 100*float(tp)/(tp+fp)\n",
    "recall = 100*float(tp)/(tp+fn)\n",
    "\n",
    "print \"Precision :\",precision\n",
    "print \"Recall :\",recall"
   ]
  },
  {
   "cell_type": "code",
   "execution_count": 92,
   "metadata": {
    "collapsed": true,
    "scrolled": false
   },
   "outputs": [],
   "source": [
    "#print(bst.feature_importances_)\n",
    "feature_imp= bst.get_fscore(fmap='')"
   ]
  },
  {
   "cell_type": "code",
   "execution_count": 93,
   "metadata": {
    "collapsed": true
   },
   "outputs": [],
   "source": [
    "import operator\n",
    "sorted_Fimp = sorted(feature_imp.items(), key=operator.itemgetter(1))"
   ]
  },
  {
   "cell_type": "code",
   "execution_count": 94,
   "metadata": {
    "scrolled": false
   },
   "outputs": [
    {
     "data": {
      "text/plain": [
       "[('f608', 758),\n",
       " ('f600', 468),\n",
       " ('f601', 444),\n",
       " ('f612', 440),\n",
       " ('f611', 367),\n",
       " ('f622', 293),\n",
       " ('f614', 235),\n",
       " ('f617', 234),\n",
       " ('f623', 202),\n",
       " ('f609', 191),\n",
       " ('f624', 150),\n",
       " ('f613', 110),\n",
       " ('f606', 108),\n",
       " ('f616', 104),\n",
       " ('f405', 59),\n",
       " ('f615', 55),\n",
       " ('f9', 51),\n",
       " ('f105', 50),\n",
       " ('f621', 50),\n",
       " ('f309', 42),\n",
       " ('f189', 40),\n",
       " ('f610', 36),\n",
       " ('f87', 33),\n",
       " ('f620', 33),\n",
       " ('f472', 32),\n",
       " ('f393', 30),\n",
       " ('f269', 25),\n",
       " ('f144', 24),\n",
       " ('f249', 23),\n",
       " ('f172', 22),\n",
       " ('f619', 20),\n",
       " ('f602', 20),\n",
       " ('f559', 19),\n",
       " ('f113', 19),\n",
       " ('f366', 19),\n",
       " ('f607', 19),\n",
       " ('f93', 18),\n",
       " ('f86', 18),\n",
       " ('f207', 18),\n",
       " ('f273', 17),\n",
       " ('f248', 17),\n",
       " ('f82', 16),\n",
       " ('f181', 16),\n",
       " ('f534', 16),\n",
       " ('f276', 15),\n",
       " ('f489', 15),\n",
       " ('f66', 14),\n",
       " ('f292', 13),\n",
       " ('f310', 12),\n",
       " ('f92', 12),\n",
       " ('f618', 12),\n",
       " ('f162', 12),\n",
       " ('f427', 11),\n",
       " ('f10', 11),\n",
       " ('f89', 11),\n",
       " ('f56', 11),\n",
       " ('f296', 11),\n",
       " ('f542', 10),\n",
       " ('f352', 10),\n",
       " ('f241', 10),\n",
       " ('f414', 10),\n",
       " ('f218', 10),\n",
       " ('f569', 9),\n",
       " ('f140', 9),\n",
       " ('f29', 9),\n",
       " ('f270', 8),\n",
       " ('f443', 8),\n",
       " ('f15', 8),\n",
       " ('f38', 8),\n",
       " ('f234', 8),\n",
       " ('f406', 8),\n",
       " ('f589', 7),\n",
       " ('f224', 7),\n",
       " ('f440', 7),\n",
       " ('f389', 7),\n",
       " ('f6', 7),\n",
       " ('f152', 7),\n",
       " ('f386', 7),\n",
       " ('f407', 7),\n",
       " ('f524', 7),\n",
       " ('f592', 7),\n",
       " ('f51', 7),\n",
       " ('f509', 7),\n",
       " ('f458', 7),\n",
       " ('f518', 7),\n",
       " ('f444', 6),\n",
       " ('f268', 6),\n",
       " ('f317', 6),\n",
       " ('f157', 6),\n",
       " ('f2', 6),\n",
       " ('f185', 6),\n",
       " ('f531', 6),\n",
       " ('f116', 6),\n",
       " ('f259', 6),\n",
       " ('f77', 5),\n",
       " ('f78', 5),\n",
       " ('f302', 5),\n",
       " ('f261', 5),\n",
       " ('f146', 5),\n",
       " ('f13', 5),\n",
       " ('f159', 5),\n",
       " ('f382', 5),\n",
       " ('f120', 5),\n",
       " ('f36', 5),\n",
       " ('f30', 5),\n",
       " ('f232', 5),\n",
       " ('f333', 5),\n",
       " ('f536', 5),\n",
       " ('f58', 5),\n",
       " ('f199', 5),\n",
       " ('f420', 5),\n",
       " ('f365', 5),\n",
       " ('f45', 5),\n",
       " ('f452', 5),\n",
       " ('f375', 4),\n",
       " ('f568', 4),\n",
       " ('f272', 4),\n",
       " ('f570', 4),\n",
       " ('f573', 4),\n",
       " ('f572', 4),\n",
       " ('f147', 4),\n",
       " ('f490', 4),\n",
       " ('f97', 4),\n",
       " ('f246', 4),\n",
       " ('f81', 4),\n",
       " ('f413', 4),\n",
       " ('f554', 4),\n",
       " ('f331', 4),\n",
       " ('f485', 4),\n",
       " ('f486', 4),\n",
       " ('f194', 4),\n",
       " ('f586', 4),\n",
       " ('f168', 4),\n",
       " ('f430', 4),\n",
       " ('f537', 4),\n",
       " ('f591', 4),\n",
       " ('f590', 4),\n",
       " ('f50', 4),\n",
       " ('f358', 4),\n",
       " ('f357', 4),\n",
       " ('f459', 4),\n",
       " ('f513', 4),\n",
       " ('f286', 4),\n",
       " ('f502', 4),\n",
       " ('f297', 4),\n",
       " ('f165', 4),\n",
       " ('f364', 3),\n",
       " ('f118', 3),\n",
       " ('f506', 3),\n",
       " ('f307', 3),\n",
       " ('f104', 3),\n",
       " ('f359', 3),\n",
       " ('f265', 3),\n",
       " ('f387', 3),\n",
       " ('f0', 3),\n",
       " ('f251', 3),\n",
       " ('f392', 3),\n",
       " ('f94', 3),\n",
       " ('f243', 3),\n",
       " ('f327', 3),\n",
       " ('f450', 3),\n",
       " ('f122', 3),\n",
       " ('f123', 3),\n",
       " ('f275', 3),\n",
       " ('f34', 3),\n",
       " ('f32', 3),\n",
       " ('f330', 3),\n",
       " ('f135', 3),\n",
       " ('f137', 3),\n",
       " ('f585', 3),\n",
       " ('f178', 3),\n",
       " ('f219', 3),\n",
       " ('f436', 3),\n",
       " ('f596', 3),\n",
       " ('f214', 3),\n",
       " ('f367', 3),\n",
       " ('f164', 3),\n",
       " ('f163', 3),\n",
       " ('f603', 3),\n",
       " ('f74', 2),\n",
       " ('f176', 2),\n",
       " ('f446', 2),\n",
       " ('f63', 2),\n",
       " ('f473', 2),\n",
       " ('f16', 2),\n",
       " ('f493', 2),\n",
       " ('f479', 2),\n",
       " ('f266', 2),\n",
       " ('f150', 2),\n",
       " ('f190', 2),\n",
       " ('f245', 2),\n",
       " ('f324', 2),\n",
       " ('f5', 2),\n",
       " ('f80', 2),\n",
       " ('f125', 2),\n",
       " ('f242', 2),\n",
       " ('f230', 2),\n",
       " ('f182', 2),\n",
       " ('f409', 2),\n",
       " ('f130', 2),\n",
       " ('f404', 2),\n",
       " ('f402', 2),\n",
       " ('f526', 2),\n",
       " ('f28', 2),\n",
       " ('f23', 2),\n",
       " ('f416', 2),\n",
       " ('f109', 2),\n",
       " ('f345', 2),\n",
       " ('f342', 2),\n",
       " ('f503', 2),\n",
       " ('f55', 2),\n",
       " ('f290', 2),\n",
       " ('f355', 2),\n",
       " ('f205', 2),\n",
       " ('f517', 2),\n",
       " ('f284', 2),\n",
       " ('f604', 2),\n",
       " ('f71', 1),\n",
       " ('f79', 1),\n",
       " ('f433', 1),\n",
       " ('f379', 1),\n",
       " ('f562', 1),\n",
       " ('f560', 1),\n",
       " ('f561', 1),\n",
       " ('f565', 1),\n",
       " ('f448', 1),\n",
       " ('f177', 1),\n",
       " ('f179', 1),\n",
       " ('f69', 1),\n",
       " ('f304', 1),\n",
       " ('f308', 1),\n",
       " ('f328', 1),\n",
       " ('f605', 1),\n",
       " ('f346', 1),\n",
       " ('f14', 1),\n",
       " ('f12', 1),\n",
       " ('f492', 1),\n",
       " ('f491', 1),\n",
       " ('f19', 1),\n",
       " ('f497', 1),\n",
       " ('f495', 1),\n",
       " ('f254', 1),\n",
       " ('f252', 1),\n",
       " ('f315', 1),\n",
       " ('f314', 1),\n",
       " ('f238', 1),\n",
       " ('f549', 1),\n",
       " ('f465', 1),\n",
       " ('f539', 1),\n",
       " ('f98', 1),\n",
       " ('f154', 1),\n",
       " ('f320', 1),\n",
       " ('f322', 1),\n",
       " ('f558', 1),\n",
       " ('f415', 1),\n",
       " ('f329', 1),\n",
       " ('f197', 1),\n",
       " ('f385', 1),\n",
       " ('f25', 1),\n",
       " ('f139', 1),\n",
       " ('f338', 1),\n",
       " ('f236', 1),\n",
       " ('f133', 1),\n",
       " ('f401', 1),\n",
       " ('f463', 1),\n",
       " ('f523', 1),\n",
       " ('f287', 1),\n",
       " ('f587', 1),\n",
       " ('f581', 1),\n",
       " ('f482', 1),\n",
       " ('f228', 1),\n",
       " ('f223', 1),\n",
       " ('f438', 1),\n",
       " ('f439', 1),\n",
       " ('f102', 1),\n",
       " ('f533', 1),\n",
       " ('f532', 1),\n",
       " ('f551', 1),\n",
       " ('f318', 1),\n",
       " ('f598', 1),\n",
       " ('f256', 1),\n",
       " ('f59', 1),\n",
       " ('f380', 1),\n",
       " ('f53', 1),\n",
       " ('f213', 1),\n",
       " ('f54', 1),\n",
       " ('f294', 1),\n",
       " ('f353', 1),\n",
       " ('f394', 1),\n",
       " ('f111', 1),\n",
       " ('f408', 1),\n",
       " ('f46', 1),\n",
       " ('f202', 1),\n",
       " ('f206', 1),\n",
       " ('f204', 1),\n",
       " ('f282', 1),\n",
       " ('f462', 1),\n",
       " ('f514', 1),\n",
       " ('f285', 1),\n",
       " ('f166', 1),\n",
       " ('f541', 1)]"
      ]
     },
     "execution_count": 94,
     "metadata": {},
     "output_type": "execute_result"
    }
   ],
   "source": [
    "sorted_Fimp.reverse()\n",
    "sorted_Fimp"
   ]
  }
 ],
 "metadata": {
  "kernelspec": {
   "display_name": "Python 2",
   "language": "python",
   "name": "python2"
  },
  "language_info": {
   "codemirror_mode": {
    "name": "ipython",
    "version": 2
   },
   "file_extension": ".py",
   "mimetype": "text/x-python",
   "name": "python",
   "nbconvert_exporter": "python",
   "pygments_lexer": "ipython2",
   "version": "2.7.13"
  }
 },
 "nbformat": 4,
 "nbformat_minor": 2
}
